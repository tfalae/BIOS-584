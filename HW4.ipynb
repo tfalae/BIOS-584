{
 "cells": [
  {
   "cell_type": "markdown",
   "metadata": {},
   "source": [
    "# HW4 (20')"
   ]
  },
  {
   "cell_type": "markdown",
   "metadata": {},
   "source": [
    "## Submit as an HTML or PDF file"
   ]
  },
  {
   "cell_type": "markdown",
   "metadata": {},
   "source": [
    "Print your name (First Name and Last Name) below."
   ]
  },
  {
   "cell_type": "code",
   "execution_count": 4,
   "metadata": {},
   "outputs": [
    {
     "name": "stdout",
     "output_type": "stream",
     "text": [
      "Temi Falae\n"
     ]
    }
   ],
   "source": [
    "print(\"Temi Falae\")"
   ]
  },
  {
   "cell_type": "markdown",
   "metadata": {},
   "source": [
    "- Import `numpy` and `matplotlib` libraries. Pay attention to the alias."
   ]
  },
  {
   "cell_type": "code",
   "execution_count": 5,
   "metadata": {},
   "outputs": [],
   "source": [
    "import numpy as np\n",
    "import matplotlib.pyplot as plt"
   ]
  },
  {
   "cell_type": "markdown",
   "metadata": {},
   "source": [
    "## 1. For loops to count conditional statements (5')\n",
    "\n",
    "- Previously, we introduce generating normal vectors using `np.random.normal()`. \n",
    "- Set the seed value as `100`. (1')\n",
    "- Generate a random vector that follows a univariate normal distribution with a zero mean and a unit variance with a sample size of `1000` and rename it as `norm_vec`. (1')\n",
    "- Define an empty list called `eligible_ls`.\n",
    "- Write a for loop that iterate the entire 1000 samples. Append the value `True` to `eligible_ls` if each random variable lies between $-1.96$ and $1.96$, and `False` otherwise. (2')\n",
    "- Print out the first five elements of `norm_vec` and `eligible_ls`. (1')"
   ]
  },
  {
   "cell_type": "code",
   "execution_count": 8,
   "metadata": {},
   "outputs": [
    {
     "name": "stdout",
     "output_type": "stream",
     "text": [
      "First 5 of norm_vec: [-1.74976547  0.3426804   1.1530358  -0.25243604  0.98132079]\n",
      "First 5 of eligible_ls: [True, True, True, True, True]\n"
     ]
    }
   ],
   "source": [
    "np.random.seed(100)\n",
    "norm_vec = np.random.normal(loc=0, scale=1, size=1000)\n",
    "eligible_ls = []\n",
    "for value in norm_vec:\n",
    "    if -1 <= value <= 1:\n",
    "        eligible_ls.append(True)\n",
    "else:\n",
    "    eligible_ls.append(False)\n",
    "print(\"First 5 of norm_vec:\", norm_vec[:5])\n",
    "print(\"First 5 of eligible_ls:\", eligible_ls[:5])\n",
    "\n"
   ]
  },
  {
   "cell_type": "markdown",
   "metadata": {},
   "source": [
    "## 2. This is a follow-up to question 1. (5')\n",
    "\n",
    "- If you run ```np.sum(list_eligible)```, what value is Python assigning to ```True``` or ```False``` elements in the sum? Write you answer as a comment. (1')\n",
    "- Assign a variable `eligible_sum` to the previous output.\n",
    "- Print out the type of the output above. (1')\n",
    "- Convert it to an integer using `int` instead of the previous type. Print out the corresponding value and type. (1')\n",
    "- Calculate the sample size of numbers who are outside $[-1.96, 1.96]$ using at least **two** methods. (2')\n",
    "    - You can use subtraction directly.\n",
    "    - Convert `True` and `False` to $1$ and $0$, respectively; Reverse $0$ and $1$ and calculate the corresponding sum."
   ]
  },
  {
   "cell_type": "code",
   "execution_count": 12,
   "metadata": {},
   "outputs": [
    {
     "name": "stdout",
     "output_type": "stream",
     "text": [
      "eligible_sum: 662\n",
      "eligible_sum as int: 662\n",
      "othercount (method 1): 63\n",
      "othercount (method 2): 63\n"
     ]
    }
   ],
   "source": [
    "np.random.seed(100)\n",
    "\n",
    "norm_vec = np.random.normal(loc=0, scale=1, size=1000)\n",
    "\n",
    "eligible_ls = []\n",
    "for val in norm_vec:\n",
    "    if -1 <= val <= 1:\n",
    "        eligible_ls.append(True)\n",
    "    else:\n",
    "        eligible_ls.append(False)\n",
    "\n",
    "eligible_sum = np.sum(eligible_ls)  \n",
    "\n",
    "print(\"eligible_sum:\", eligible_sum)\n",
    "\n",
    "eligible_sum_int = int(eligible_sum)\n",
    "print(\"eligible_sum as int:\", eligible_sum_int)\n",
    "\n",
    "othercount = len(norm_vec) - np.sum((-1.96 <= norm_vec) & (norm_vec <= 1.96))\n",
    "print(\"othercount (method 1):\", othercount)\n",
    "\n",
    "othercount2 = np.sum((norm_vec < -1.96) | (norm_vec > 1.96))\n",
    "print(\"othercount (method 2):\", othercount2)\n",
    "\n"
   ]
  },
  {
   "cell_type": "markdown",
   "metadata": {},
   "source": [
    "## 3. For-Loops + Plotting (5')\n",
    "\n",
    "- Create an array of x-values with all the integers between 1 and 5, denoted as `x_vec`. Do not manually write out $1,2,\\cdots,5$. (1')\n",
    "- Create a vector ```y1_vec``` where each element is computed from the formula $ y_1 = x^2 + x^{-2}$. (1')\n",
    "- Create a vector ```y2_vec``` where each element is computed from the formula $ y_2 = \\log(x)$. (1')\n",
    "- Create an object ```list_vectors``` with elements ```vec_y1``` and ```vec_y2```.\n",
    "- Create a for-loop that goes through each element of ```list_vectors``` and plots each list of $y$ values against $x$. (2')\n",
    "\n",
    "Note: The final output should be a 2 dimensional scatter plot with two sets of points, with the $y_1$ and $y_2$ on the vertical axis, and the $x$ values on the horizontal axis. X-axes are labelled as `x`. Y-axes are labelled as `y1` and `y2`, respectively. Titles are labelled as `Scatterplot 1` and `Scatterplot 2`, respectively. Those labeling process should be written inside the for loop for automation workflows."
   ]
  },
  {
   "cell_type": "code",
   "execution_count": 9,
   "metadata": {},
   "outputs": [
    {
     "ename": "ValueError",
     "evalue": "Integers to negative integer powers are not allowed.",
     "output_type": "error",
     "traceback": [
      "\u001b[31m---------------------------------------------------------------------------\u001b[39m",
      "\u001b[31mValueError\u001b[39m                                Traceback (most recent call last)",
      "\u001b[36mCell\u001b[39m\u001b[36m \u001b[39m\u001b[32mIn[9]\u001b[39m\u001b[32m, line 3\u001b[39m\n\u001b[32m      1\u001b[39m x_vec = np.arange(\u001b[32m1\u001b[39m, \u001b[32m5\u001b[39m)\n\u001b[32m----> \u001b[39m\u001b[32m3\u001b[39m y1_vec = x_vec**\u001b[32m2\u001b[39m + \u001b[43mx_vec\u001b[49m\u001b[43m*\u001b[49m\u001b[43m*\u001b[49m\u001b[43m(\u001b[49m\u001b[43m-\u001b[49m\u001b[32;43m2\u001b[39;49m\u001b[43m)\u001b[49m\n\u001b[32m      4\u001b[39m y2_vec = np.log(x_vec)\n\u001b[32m      6\u001b[39m list_vectors = [y1_vec, y2_vec]\n",
      "\u001b[31mValueError\u001b[39m: Integers to negative integer powers are not allowed."
     ]
    }
   ],
   "source": [
    "x_vec = np.arange(1, 5)\n",
    "\n",
    "y1_vec = x_vec**2 + x_vec**(-2)\n",
    "y2_vec = np.log(x_vec)\n",
    "\n",
    "list_vectors = [y1_vec, y2_vec]\n",
    "\n",
    "for i, vec in enumerate(list_vectors, start=1):\n",
    "    plt.scatter(x_vec, vec)\n",
    "    plt.xlabel(\"x\")\n",
    "    plt.ylabel(f\"y{i}\")\n",
    "    plt.title(f\"Scatterplot {i}\")\n",
    "    plt.show()\n"
   ]
  },
  {
   "cell_type": "markdown",
   "metadata": {},
   "source": [
    "## 4. While Loops (5')\n",
    "\n",
    "Write a program to generate the Fibonacci sequence between $0$ and $1000$.<br>\n",
    "A Fibonacci sequence is a sequence in which each element is the sum of the two elements that precede it.\n",
    "Define initial values `a=0, b=1`, then the next value is `a+b=1`, so on.\n",
    "The first six values of a Fibonacci sequence given the above initialization is `0,1,1,2,3,5`.\n",
    "\n",
    "- Create a list `f_ls` that saves the first two initialized values $0$ and $1$.\n",
    "- Create a `count_id` that can evaluate the last element of the list `f_ls` and define the value as 1. \n",
    "    - Q: Why do we initialize `count_id` as 1 here?\n",
    "    - (**Note for TA:** (1') for initialization `f_ls` and `count_id`)\n",
    "- The condition for the while loop is to evaluate whether the last element of `f_ls` is smaller than $1000$. (1')\n",
    "- If we pass the while condition, we use the `append` function to compute the next element by summing up the previous two elements. (1')\n",
    "- Remember to increase `count_id` by 1. (1')\n",
    "- Print out the final list. Make sure the largest value is smaller than $1000$. (1')"
   ]
  },
  {
   "cell_type": "code",
   "execution_count": 10,
   "metadata": {},
   "outputs": [
    {
     "name": "stdout",
     "output_type": "stream",
     "text": [
      "[0, 1, 1, 2, 3, 5, 8, 13, 21, 34, 55, 89, 144, 233, 377, 610, 987]\n"
     ]
    }
   ],
   "source": [
    "f_ls = [0, 1]\n",
    "\n",
    "count_id = 1  \n",
    "while f_ls[-1] < 1000:\n",
    "    f_ls.append(f_ls[count_id] + f_ls[count_id - 1])\n",
    "    count_id += 1\n",
    "\n",
    "if f_ls[-1] >= 1000:\n",
    "    f_ls.pop()\n",
    "\n",
    "print(f_ls)\n",
    "\n"
   ]
  },
  {
   "cell_type": "code",
   "execution_count": null,
   "metadata": {},
   "outputs": [],
   "source": []
  }
 ],
 "metadata": {
  "kernelspec": {
   "display_name": "Python 3 (ipykernel)",
   "language": "python",
   "name": "python3"
  },
  "language_info": {
   "codemirror_mode": {
    "name": "ipython",
    "version": 3
   },
   "file_extension": ".py",
   "mimetype": "text/x-python",
   "name": "python",
   "nbconvert_exporter": "python",
   "pygments_lexer": "ipython3",
   "version": "3.13.7"
  }
 },
 "nbformat": 4,
 "nbformat_minor": 4
}
