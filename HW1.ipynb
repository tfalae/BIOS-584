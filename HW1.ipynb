{
 "cells": [
  {
   "cell_type": "markdown",
   "id": "902feee9-c391-4bc2-b686-a90ab16fc644",
   "metadata": {},
   "source": [
    "This is my first Jupyter notebook"
   ]
  },
  {
   "cell_type": "code",
   "execution_count": 2,
   "id": "8c0da579-1628-4c61-977f-abfd7478f3b4",
   "metadata": {},
   "outputs": [
    {
     "name": "stdout",
     "output_type": "stream",
     "text": [
      "My name is Temi F.\n"
     ]
    }
   ],
   "source": [
    "print(\"My name is Temi F.\")"
   ]
  },
  {
   "cell_type": "code",
   "execution_count": null,
   "id": "10b5c2e0-af95-4a87-8060-34b126fa6e1e",
   "metadata": {},
   "outputs": [],
   "source": []
  }
 ],
 "metadata": {
  "kernelspec": {
   "display_name": "Python 3 (ipykernel)",
   "language": "python",
   "name": "python3"
  },
  "language_info": {
   "codemirror_mode": {
    "name": "ipython",
    "version": 3
   },
   "file_extension": ".py",
   "mimetype": "text/x-python",
   "name": "python",
   "nbconvert_exporter": "python",
   "pygments_lexer": "ipython3",
   "version": "3.13.7"
  }
 },
 "nbformat": 4,
 "nbformat_minor": 5
}
