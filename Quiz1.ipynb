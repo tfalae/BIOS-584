{
 "cells": [
  {
   "cell_type": "code",
   "execution_count": 3,
   "id": "f08c894d-bb2d-4186-b535-1eced68a4690",
   "metadata": {},
   "outputs": [
    {
     "name": "stdout",
     "output_type": "stream",
     "text": [
      "Temi Falae\n"
     ]
    }
   ],
   "source": [
    "print ('Temi Falae')\n"
   ]
  },
  {
   "cell_type": "code",
   "execution_count": 14,
   "id": "49d1945f-9ba4-4ef3-aaa0-4be570f56327",
   "metadata": {
    "scrolled": true
   },
   "outputs": [
    {
     "name": "stdout",
     "output_type": "stream",
     "text": [
      "['cat1', 'cat1', 'cat1', 'cat2']\n"
     ]
    }
   ],
   "source": [
    "Cat_ls = ['cat1', 'cat1', 'cat1']\n",
    "Cat_ls.append('cat2')\n",
    "print (Cat_ls)\n"
   ]
  },
  {
   "cell_type": "code",
   "execution_count": 19,
   "id": "4156f994-c893-4b2b-8a82-fdc4bafd2538",
   "metadata": {},
   "outputs": [
    {
     "name": "stdout",
     "output_type": "stream",
     "text": [
      "2\n"
     ]
    }
   ],
   "source": [
    "cat_ls = ['cat1' , 'cat1' , 'cat2']\n",
    "print(cat_ls.count('cat1'))\n"
   ]
  },
  {
   "cell_type": "code",
   "execution_count": 1,
   "id": "b4eef458-7d8c-4b4e-b4f5-51232f7ac690",
   "metadata": {},
   "outputs": [
    {
     "name": "stdout",
     "output_type": "stream",
     "text": [
      "2\n"
     ]
    }
   ],
   "source": [
    "Cat_ls = ['cat1', 'cat1', 'cat2']\n",
    "print(Cat_ls.index('cat2'))\n"
   ]
  },
  {
   "cell_type": "code",
   "execution_count": 4,
   "id": "bcba75ce-de85-49ac-9231-72ecebeae61a",
   "metadata": {},
   "outputs": [
    {
     "name": "stdout",
     "output_type": "stream",
     "text": [
      "None\n"
     ]
    }
   ],
   "source": [
    "Cat_ls = ['cat1', 'cat1', 'cat1']\n",
    "print(Cat_ls.clear())\n"
   ]
  },
  {
   "cell_type": "code",
   "execution_count": 6,
   "id": "d6d1c31c-be6b-4ecb-92fa-4d734da8068a",
   "metadata": {},
   "outputs": [
    {
     "name": "stdout",
     "output_type": "stream",
     "text": [
      "['cat1', 'cat1', 'cat1']\n"
     ]
    }
   ],
   "source": [
    "Cat_ls = ['cat1', 'cat1', 'cat1']\n",
    "print(Cat_ls.copy())"
   ]
  },
  {
   "cell_type": "code",
   "execution_count": 10,
   "id": "bd97d578-b5ef-4cf5-b7a0-f79a5cc7526a",
   "metadata": {},
   "outputs": [
    {
     "name": "stdout",
     "output_type": "stream",
     "text": [
      "['cat1', 'cat2', 'cat1', 'cat2']\n"
     ]
    }
   ],
   "source": [
    "cat_ls = ['cat1', 'cat1', 'cat2']\n",
    "cat_ls.insert(1, 'cat2')\n",
    "print(cat_ls)"
   ]
  },
  {
   "cell_type": "code",
   "execution_count": 11,
   "id": "59761c35-08b1-423f-b538-883d48c6df52",
   "metadata": {},
   "outputs": [
    {
     "data": {
      "text/plain": [
       "'cat2'"
      ]
     },
     "execution_count": 11,
     "metadata": {},
     "output_type": "execute_result"
    }
   ],
   "source": [
    "cat_ls = ['cat1', 'cat1', 'cat2']\n",
    "cat_ls.pop(2)"
   ]
  },
  {
   "cell_type": "code",
   "execution_count": 12,
   "id": "46a3906b-a902-4741-be4d-3571e19a5e8e",
   "metadata": {},
   "outputs": [
    {
     "name": "stdout",
     "output_type": "stream",
     "text": [
      "None\n"
     ]
    }
   ],
   "source": [
    "cat_ls = ['cat1', 'cat1', 'cat2']\n",
    "print(cat_ls.remove('cat2'))"
   ]
  },
  {
   "cell_type": "code",
   "execution_count": null,
   "id": "1311772e-2d1d-4620-91e5-0a87c1682b84",
   "metadata": {},
   "outputs": [],
   "source": []
  }
 ],
 "metadata": {
  "kernelspec": {
   "display_name": "Python 3 (ipykernel)",
   "language": "python",
   "name": "python3"
  },
  "language_info": {
   "codemirror_mode": {
    "name": "ipython",
    "version": 3
   },
   "file_extension": ".py",
   "mimetype": "text/x-python",
   "name": "python",
   "nbconvert_exporter": "python",
   "pygments_lexer": "ipython3",
   "version": "3.13.7"
  }
 },
 "nbformat": 4,
 "nbformat_minor": 5
}
